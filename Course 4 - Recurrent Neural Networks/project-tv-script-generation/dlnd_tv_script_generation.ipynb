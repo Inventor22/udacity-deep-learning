{
 "cells": [
  {
   "cell_type": "markdown",
   "metadata": {},
   "source": [
    "# TV Script Generation\n",
    "\n",
    "In this project, you'll generate your own [Seinfeld](https://en.wikipedia.org/wiki/Seinfeld) TV scripts using RNNs.  You'll be using part of the [Seinfeld dataset](https://www.kaggle.com/thec03u5/seinfeld-chronicles#scripts.csv) of scripts from 9 seasons.  The Neural Network you'll build will generate a new ,\"fake\" TV script, based on patterns it recognizes in this training data.\n",
    "\n",
    "## Get the Data\n",
    "\n",
    "The data is already provided for you in `./data/Seinfeld_Scripts.txt` and you're encouraged to open that file and look at the text. \n",
    ">* As a first step, we'll load in this data and look at some samples. \n",
    "* Then, you'll be tasked with defining and training an RNN to generate a new script!"
   ]
  },
  {
   "cell_type": "code",
   "execution_count": 1,
   "metadata": {
    "tags": []
   },
   "outputs": [],
   "source": [
    "\"\"\"\n",
    "DON'T MODIFY ANYTHING IN THIS CELL\n",
    "\"\"\"\n",
    "# load in data\n",
    "import helper\n",
    "data_dir = './data/Seinfeld_Scripts.txt'\n",
    "text = helper.load_data(data_dir)"
   ]
  },
  {
   "cell_type": "markdown",
   "metadata": {},
   "source": [
    "## Explore the Data\n",
    "Play around with `view_line_range` to view different parts of the data. This will give you a sense of the data you'll be working with. You can see, for example, that it is all lowercase text, and each new line of dialogue is separated by a newline character `\\n`."
   ]
  },
  {
   "cell_type": "code",
   "execution_count": 2,
   "metadata": {
    "tags": []
   },
   "outputs": [
    {
     "name": "stdout",
     "output_type": "stream",
     "text": [
      "Dataset Stats\n",
      "Roughly the number of unique words: 46367\n",
      "Number of lines: 109233\n",
      "Average number of words in each line: 5.544240293684143\n",
      "The lines 0 to 10:\n",
      "jerry: do you know what this is all about? do you know, why were here? to be out, this is out...and out is one of the single most enjoyable experiences of life. people...did you ever hear people talking about we should go out? this is what theyre talking about...this whole thing, were all out now, no one is home. not one person here is home, were all out! there are people trying to find us, they dont know where we are. (on an imaginary phone) did you ring?, i cant find him. where did he go? he didnt tell me where he was going. he must have gone out. you wanna go out you get ready, you pick out the clothes, right? you take the shower, you get all ready, get the cash, get your friends, the car, the spot, the reservation...then youre standing around, what do you do? you go we gotta be getting back. once youre out, you wanna get back! you wanna go to sleep, you wanna get up, you wanna go out again tomorrow, right? where ever you are in life, its my feeling, youve gotta go. \n",
      "\n",
      "jerry: (pointing at georges shirt) see, to me, that button is in the worst possible spot. the second button literally makes or breaks the shirt, look at it. its too high! its in no-mans-land. you look like you live with your mother. \n",
      "\n",
      "george: are you through? \n",
      "\n",
      "jerry: you do of course try on, when you buy? \n",
      "\n",
      "george: yes, it was purple, i liked it, i dont actually recall considering the buttons. \n",
      "\n"
     ]
    }
   ],
   "source": [
    "view_line_range = (0, 10)\n",
    "\n",
    "\"\"\"\n",
    "DON'T MODIFY ANYTHING IN THIS CELL THAT IS BELOW THIS LINE\n",
    "\"\"\"\n",
    "import numpy as np\n",
    "\n",
    "print('Dataset Stats')\n",
    "print('Roughly the number of unique words: {}'.format(len({word: None for word in text.split()})))\n",
    "\n",
    "lines = text.split('\\n')\n",
    "print('Number of lines: {}'.format(len(lines)))\n",
    "word_count_line = [len(line.split()) for line in lines]\n",
    "print('Average number of words in each line: {}'.format(np.average(word_count_line)))\n",
    "\n",
    "print('The lines {} to {}:'.format(*view_line_range))\n",
    "print('\\n'.join(text.split('\\n')[view_line_range[0]:view_line_range[1]]))"
   ]
  },
  {
   "cell_type": "markdown",
   "metadata": {},
   "source": [
    "---\n",
    "## Implement Pre-processing Functions\n",
    "The first thing to do to any dataset is pre-processing.  Implement the following pre-processing functions below:\n",
    "- Lookup Table\n",
    "- Tokenize Punctuation\n",
    "\n",
    "### Lookup Table\n",
    "To create a word embedding, you first need to transform the words to ids.  In this function, create two dictionaries:\n",
    "- Dictionary to go from the words to an id, we'll call `vocab_to_int`\n",
    "- Dictionary to go from the id to word, we'll call `int_to_vocab`\n",
    "\n",
    "Return these dictionaries in the following **tuple** `(vocab_to_int, int_to_vocab)`"
   ]
  },
  {
   "cell_type": "code",
   "execution_count": 3,
   "metadata": {
    "tags": []
   },
   "outputs": [
    {
     "name": "stdout",
     "output_type": "stream",
     "text": [
      "Tests Passed\n"
     ]
    }
   ],
   "source": [
    "import problem_unittests as tests\n",
    "from collections import Counter\n",
    "\n",
    "def create_lookup_tables(text):\n",
    "    \"\"\"\n",
    "    Create lookup tables for vocabulary\n",
    "    :param text: The text of tv scripts split into words\n",
    "    :return: A tuple of dicts (vocab_to_int, int_to_vocab)\n",
    "    \"\"\"\n",
    "    # TODO: Implement Function\n",
    "    \n",
    "    counts = Counter(text)\n",
    "    int_to_vocab = {i:word for i,word in enumerate(counts)}\n",
    "    vocab_to_int = {word:i for i,word in int_to_vocab.items()}\n",
    "    \n",
    "    # return tuple\n",
    "    return (vocab_to_int, int_to_vocab)\n",
    "\n",
    "\n",
    "\"\"\"\n",
    "DON'T MODIFY ANYTHING IN THIS CELL THAT IS BELOW THIS LINE\n",
    "\"\"\"\n",
    "tests.test_create_lookup_tables(create_lookup_tables)"
   ]
  },
  {
   "cell_type": "markdown",
   "metadata": {},
   "source": [
    "### Tokenize Punctuation\n",
    "We'll be splitting the script into a word array using spaces as delimiters.  However, punctuations like periods and exclamation marks can create multiple ids for the same word. For example, \"bye\" and \"bye!\" would generate two different word ids.\n",
    "\n",
    "Implement the function `token_lookup` to return a dict that will be used to tokenize symbols like \"!\" into \"||Exclamation_Mark||\".  Create a dictionary for the following symbols where the symbol is the key and value is the token:\n",
    "- Period ( **.** )\n",
    "- Comma ( **,** )\n",
    "- Quotation Mark ( **\"** )\n",
    "- Semicolon ( **;** )\n",
    "- Exclamation mark ( **!** )\n",
    "- Question mark ( **?** )\n",
    "- Left Parentheses ( **(** )\n",
    "- Right Parentheses ( **)** )\n",
    "- Dash ( **-** )\n",
    "- Return ( **\\n** )\n",
    "\n",
    "This dictionary will be used to tokenize the symbols and add the delimiter (space) around it.  This separates each symbols as its own word, making it easier for the neural network to predict the next word. Make sure you don't use a value that could be confused as a word; for example, instead of using the value \"dash\", try using something like \"||dash||\"."
   ]
  },
  {
   "cell_type": "code",
   "execution_count": 4,
   "metadata": {
    "tags": []
   },
   "outputs": [
    {
     "name": "stdout",
     "output_type": "stream",
     "text": [
      "Tests Passed\n"
     ]
    }
   ],
   "source": [
    "def token_lookup():\n",
    "    \"\"\"\n",
    "    Generate a dict to turn punctuation into a token.\n",
    "    :return: Tokenized dictionary where the key is the punctuation and the value is the token\n",
    "    \"\"\"\n",
    "    # TODO: Implement Function\n",
    "    mapping = {\n",
    "        '.': '<PERIOD>',\n",
    "        ',': '<COMMA>',\n",
    "        '\"': '<QUOTATION_MARK>',\n",
    "        ';': '<SEMICOLON>',\n",
    "        '!': '<EXCLAMATION_MARK>',\n",
    "        '?': '<QUESTION_MARK>',\n",
    "        '(': '<LEFT_PAREN>',\n",
    "        ')': '<RIGHT_PAREN>',\n",
    "        '-': '<DASH>',\n",
    "        '\\n': '<NEW_LINE>',\n",
    "    }\n",
    "        \n",
    "    return mapping\n",
    "\n",
    "\"\"\"\n",
    "DON'T MODIFY ANYTHING IN THIS CELL THAT IS BELOW THIS LINE\n",
    "\"\"\"\n",
    "tests.test_tokenize(token_lookup)"
   ]
  },
  {
   "cell_type": "markdown",
   "metadata": {},
   "source": [
    "## Pre-process all the data and save it\n",
    "\n",
    "Running the code cell below will pre-process all the data and save it to file. You're encouraged to look at the code for `preprocess_and_save_data` in the `helpers.py` file to see what it's doing in detail, but you do not need to change this code."
   ]
  },
  {
   "cell_type": "code",
   "execution_count": 5,
   "metadata": {
    "tags": []
   },
   "outputs": [],
   "source": [
    "\"\"\"\n",
    "DON'T MODIFY ANYTHING IN THIS CELL\n",
    "\"\"\"\n",
    "# pre-process training data\n",
    "helper.preprocess_and_save_data(data_dir, token_lookup, create_lookup_tables)"
   ]
  },
  {
   "cell_type": "markdown",
   "metadata": {},
   "source": [
    "# Check Point\n",
    "This is your first checkpoint. If you ever decide to come back to this notebook or have to restart the notebook, you can start from here. The preprocessed data has been saved to disk."
   ]
  },
  {
   "cell_type": "code",
   "execution_count": 6,
   "metadata": {},
   "outputs": [],
   "source": [
    "import numpy as np"
   ]
  },
  {
   "cell_type": "code",
   "execution_count": 7,
   "metadata": {
    "tags": []
   },
   "outputs": [],
   "source": [
    "\"\"\"\n",
    "DON'T MODIFY ANYTHING IN THIS CELL\n",
    "\"\"\"\n",
    "import helper\n",
    "import problem_unittests as tests\n",
    "\n",
    "int_text, vocab_to_int, int_to_vocab, token_dict = helper.load_preprocess()"
   ]
  },
  {
   "cell_type": "markdown",
   "metadata": {},
   "source": [
    "## Build the Neural Network\n",
    "In this section, you'll build the components necessary to build an RNN by implementing the RNN Module and forward and backpropagation functions.\n",
    "\n",
    "### Check Access to GPU"
   ]
  },
  {
   "cell_type": "code",
   "execution_count": 8,
   "metadata": {
    "tags": []
   },
   "outputs": [],
   "source": [
    "\"\"\"\n",
    "DON'T MODIFY ANYTHING IN THIS CELL\n",
    "\"\"\"\n",
    "import torch\n",
    "\n",
    "# Check for a GPU\n",
    "train_on_gpu = torch.cuda.is_available()\n",
    "if not train_on_gpu:\n",
    "    print('No GPU found. Please use a GPU to train your neural network.')"
   ]
  },
  {
   "cell_type": "markdown",
   "metadata": {},
   "source": [
    "encoded_labels = [1 if label == 'positive' else 0 for label in labels.split('\\n')]## Input\n",
    "Let's start with the preprocessed input data. We'll use [TensorDataset](http://pytorch.org/docs/master/data.html#torch.utils.data.TensorDataset) to provide a known format to our dataset; in combination with [DataLoader](http://pytorch.org/docs/master/data.html#torch.utils.data.DataLoader), it will handle batching, shuffling, and other dataset iteration functions.\n",
    "\n",
    "You can create data with TensorDataset by passing in feature and target tensors. Then create a DataLoader as usual.\n",
    "```\n",
    "data = TensorDataset(feature_tensors, target_tensors)\n",
    "data_loader = torch.utils.data.DataLoader(data, \n",
    "                                          batch_size=batch_size)\n",
    "```\n",
    "\n",
    "### Batching\n",
    "Implement the `batch_data` function to batch `words` data into chunks of size `batch_size` using the `TensorDataset` and `DataLoader` classes.\n",
    "\n",
    ">You can batch words using the DataLoader, but it will be up to you to create `feature_tensors` and `target_tensors` of the correct size and content for a given `sequence_length`.\n",
    "\n",
    "For example, say we have these as input:\n",
    "```\n",
    "words = [1, 2, 3, 4, 5, 6, 7]\n",
    "sequence_length = 4\n",
    "```\n",
    "\n",
    "Your first `feature_tensor` should contain the values:\n",
    "```\n",
    "[1, 2, 3, 4]\n",
    "```\n",
    "And the corresponding `target_tensor` should just be the next \"word\"/tokenized word value:\n",
    "```\n",
    "5\n",
    "```\n",
    "This should continue with the second `feature_tensor`, `target_tensor` being:\n",
    "```\n",
    "[2, 3, 4, 5]  # features\n",
    "6             # target\n",
    "```"
   ]
  },
  {
   "cell_type": "code",
   "execution_count": 9,
   "metadata": {
    "tags": []
   },
   "outputs": [],
   "source": [
    "#int_text, vocab_to_int, int_to_vocab, token_dict"
   ]
  },
  {
   "cell_type": "code",
   "execution_count": 10,
   "metadata": {},
   "outputs": [
    {
     "data": {
      "text/plain": [
       "'this is out <period> <period> <period> and out is one of the single most enjoyable experiences of life <period> people <period> <period> <period> did you ever hear people talking about we should go out <question_mark> this is what theyre talking about <period> <period> <period> this whole thing <comma> were all out now <comma> no one is home <period> not one'"
      ]
     },
     "execution_count": 10,
     "metadata": {},
     "output_type": "execute_result"
    }
   ],
   "source": [
    "sample = [int_to_vocab[int_word] for int_word in int_text[:60]]\n",
    "' '.join(sample)"
   ]
  },
  {
   "cell_type": "code",
   "execution_count": null,
   "metadata": {},
   "outputs": [],
   "source": []
  },
  {
   "cell_type": "code",
   "execution_count": 11,
   "metadata": {},
   "outputs": [],
   "source": [
    "from numpy.lib.stride_tricks import sliding_window_view\n",
    "\n",
    "sequences = sliding_window_view(int_text, window_shape = 10)"
   ]
  },
  {
   "cell_type": "code",
   "execution_count": 12,
   "metadata": {},
   "outputs": [],
   "source": [
    "sequence_words = [' '.join([int_to_vocab[int_word] for int_word in int_words]) for int_words in sequences]"
   ]
  },
  {
   "cell_type": "code",
   "execution_count": 13,
   "metadata": {},
   "outputs": [
    {
     "data": {
      "text/plain": [
       "['this is out <period> <period> <period> and out is one',\n",
       " 'is out <period> <period> <period> and out is one of',\n",
       " 'out <period> <period> <period> and out is one of the',\n",
       " '<period> <period> <period> and out is one of the single',\n",
       " '<period> <period> and out is one of the single most',\n",
       " '<period> and out is one of the single most enjoyable',\n",
       " 'and out is one of the single most enjoyable experiences',\n",
       " 'out is one of the single most enjoyable experiences of',\n",
       " 'is one of the single most enjoyable experiences of life',\n",
       " 'one of the single most enjoyable experiences of life <period>']"
      ]
     },
     "execution_count": 13,
     "metadata": {},
     "output_type": "execute_result"
    }
   ],
   "source": [
    "sequence_words[:10]"
   ]
  },
  {
   "cell_type": "code",
   "execution_count": 14,
   "metadata": {},
   "outputs": [],
   "source": [
    "features = sequences[:, :-1]\n",
    "targets = sequences[:, -1]"
   ]
  },
  {
   "cell_type": "code",
   "execution_count": 15,
   "metadata": {},
   "outputs": [],
   "source": [
    "feature_words = [' '.join([int_to_vocab[int_word] for int_word in int_words]) for int_words in features]\n",
    "target_words = [int_to_vocab[int_word] for int_word in targets]"
   ]
  },
  {
   "cell_type": "code",
   "execution_count": 16,
   "metadata": {},
   "outputs": [
    {
     "data": {
      "text/plain": [
       "['this is out <period> <period> <period> and out is',\n",
       " 'is out <period> <period> <period> and out is one',\n",
       " 'out <period> <period> <period> and out is one of',\n",
       " '<period> <period> <period> and out is one of the',\n",
       " '<period> <period> and out is one of the single',\n",
       " '<period> and out is one of the single most',\n",
       " 'and out is one of the single most enjoyable',\n",
       " 'out is one of the single most enjoyable experiences',\n",
       " 'is one of the single most enjoyable experiences of',\n",
       " 'one of the single most enjoyable experiences of life']"
      ]
     },
     "execution_count": 16,
     "metadata": {},
     "output_type": "execute_result"
    }
   ],
   "source": [
    "feature_words[:10]"
   ]
  },
  {
   "cell_type": "code",
   "execution_count": 17,
   "metadata": {},
   "outputs": [
    {
     "data": {
      "text/plain": [
       "['one',\n",
       " 'of',\n",
       " 'the',\n",
       " 'single',\n",
       " 'most',\n",
       " 'enjoyable',\n",
       " 'experiences',\n",
       " 'of',\n",
       " 'life',\n",
       " '<period>']"
      ]
     },
     "execution_count": 17,
     "metadata": {},
     "output_type": "execute_result"
    }
   ],
   "source": [
    "target_words[:10]"
   ]
  },
  {
   "cell_type": "code",
   "execution_count": 18,
   "metadata": {},
   "outputs": [
    {
     "data": {
      "text/plain": [
       "numpy.ndarray"
      ]
     },
     "execution_count": 18,
     "metadata": {},
     "output_type": "execute_result"
    }
   ],
   "source": [
    "type(features)"
   ]
  },
  {
   "cell_type": "code",
   "execution_count": 30,
   "metadata": {
    "tags": []
   },
   "outputs": [],
   "source": [
    "from torch.utils.data import TensorDataset, DataLoader\n",
    "from numpy.lib.stride_tricks import sliding_window_view\n",
    "\n",
    "def batch_data(words, sequence_length, batch_size):\n",
    "    \"\"\"\n",
    "    Batch the neural network data using DataLoader\n",
    "    :param words: The word ids of the TV scripts\n",
    "    :param sequence_length: The sequence length of each batch\n",
    "    :param batch_size: The size of each batch; the number of sequences in a batch\n",
    "    :return: DataLoader with batched data\n",
    "    \"\"\"\n",
    "    # TODO: Implement function\n",
    "    sequences = sliding_window_view(words, window_shape = sequence_length+1)\n",
    "    feature_tensors = torch.from_numpy(np.asarray(sequences[:, :-1]))\n",
    "    target_tensors = torch.from_numpy(np.asarray(sequences[:, -1]))\n",
    "    \n",
    "    data = TensorDataset(feature_tensors, target_tensors)\n",
    "    data_loader = torch.utils.data.DataLoader(\n",
    "                      data, \n",
    "                      batch_size=batch_size,\n",
    "                      shuffle=True)    \n",
    "    \n",
    "    # return a dataloader\n",
    "    return data_loader\n",
    "\n",
    "# there is no test for this function, but you are encouraged to create\n",
    "# print statements and tests of your own\n"
   ]
  },
  {
   "cell_type": "markdown",
   "metadata": {},
   "source": [
    "### Test your dataloader \n",
    "\n",
    "You'll have to modify this code to test a batching function, but it should look fairly similar.\n",
    "\n",
    "Below, we're generating some test text data and defining a dataloader using the function you defined, above. Then, we are getting some sample batch of inputs `sample_x` and targets `sample_y` from our dataloader.\n",
    "\n",
    "Your code should return something like the following (likely in a different order, if you shuffled your data):\n",
    "\n",
    "```\n",
    "torch.Size([10, 5])\n",
    "tensor([[ 28,  29,  30,  31,  32],\n",
    "        [ 21,  22,  23,  24,  25],\n",
    "        [ 17,  18,  19,  20,  21],\n",
    "        [ 34,  35,  36,  37,  38],\n",
    "        [ 11,  12,  13,  14,  15],\n",
    "        [ 23,  24,  25,  26,  27],\n",
    "        [  6,   7,   8,   9,  10],\n",
    "        [ 38,  39,  40,  41,  42],\n",
    "        [ 25,  26,  27,  28,  29],\n",
    "        [  7,   8,   9,  10,  11]])\n",
    "\n",
    "torch.Size([10])\n",
    "tensor([ 33,  26,  22,  39,  16,  28,  11,  43,  30,  12])\n",
    "```\n",
    "\n",
    "### Sizes\n",
    "Your sample_x should be of size `(batch_size, sequence_length)` or (10, 5) in this case and sample_y should just have one dimension: batch_size (10). \n",
    "\n",
    "### Values\n",
    "\n",
    "You should also notice that the targets, sample_y, are the *next* value in the ordered test_text data. So, for an input sequence `[ 28,  29,  30,  31,  32]` that ends with the value `32`, the corresponding output should be `33`."
   ]
  },
  {
   "cell_type": "code",
   "execution_count": 31,
   "metadata": {
    "tags": []
   },
   "outputs": [
    {
     "name": "stdout",
     "output_type": "stream",
     "text": [
      "torch.Size([10, 5])\n",
      "tensor([[13, 14, 15, 16, 17],\n",
      "        [ 5,  6,  7,  8,  9],\n",
      "        [12, 13, 14, 15, 16],\n",
      "        [14, 15, 16, 17, 18],\n",
      "        [ 9, 10, 11, 12, 13],\n",
      "        [20, 21, 22, 23, 24],\n",
      "        [33, 34, 35, 36, 37],\n",
      "        [ 8,  9, 10, 11, 12],\n",
      "        [43, 44, 45, 46, 47],\n",
      "        [11, 12, 13, 14, 15]], dtype=torch.int32)\n",
      "\n",
      "torch.Size([10])\n",
      "tensor([18, 10, 17, 19, 14, 25, 38, 13, 48, 16], dtype=torch.int32)\n"
     ]
    }
   ],
   "source": [
    "# test dataloader\n",
    "\n",
    "test_text = range(50)\n",
    "t_loader = batch_data(test_text, sequence_length=5, batch_size=10)\n",
    "\n",
    "data_iter = iter(t_loader)\n",
    "sample_x, sample_y = data_iter.next()\n",
    "\n",
    "print(sample_x.shape)\n",
    "print(sample_x)\n",
    "print()\n",
    "print(sample_y.shape)\n",
    "print(sample_y)"
   ]
  },
  {
   "cell_type": "markdown",
   "metadata": {},
   "source": [
    "---\n",
    "## Build the Neural Network\n",
    "Implement an RNN using PyTorch's [Module class](http://pytorch.org/docs/master/nn.html#torch.nn.Module). You may choose to use a GRU or an LSTM. To complete the RNN, you'll have to implement the following functions for the class:\n",
    " - `__init__` - The initialize function. \n",
    " - `init_hidden` - The initialization function for an LSTM/GRU hidden state\n",
    " - `forward` - Forward propagation function.\n",
    " \n",
    "The initialize function should create the layers of the neural network and save them to the class. The forward propagation function will use these layers to run forward propagation and generate an output and a hidden state.\n",
    "\n",
    "**The output of this model should be the *last* batch of word scores** after a complete sequence has been processed. That is, for each input sequence of words, we only want to output the word scores for a single, most likely, next word.\n",
    "\n",
    "### Hints\n",
    "\n",
    "1. Make sure to stack the outputs of the lstm to pass to your fully-connected layer, you can do this with `lstm_output = lstm_output.contiguous().view(-1, self.hidden_dim)`\n",
    "2. You can get the last batch of word scores by shaping the output of the final, fully-connected layer like so:\n",
    "\n",
    "```\n",
    "# reshape into (batch_size, seq_length, output_size)\n",
    "output = output.view(batch_size, -1, self.output_size)\n",
    "# get last batch\n",
    "out = output[:, -1]\n",
    "```"
   ]
  },
  {
   "cell_type": "code",
   "execution_count": 43,
   "metadata": {
    "tags": []
   },
   "outputs": [
    {
     "name": "stdout",
     "output_type": "stream",
     "text": [
      "Tests Passed\n"
     ]
    }
   ],
   "source": [
    "import torch.nn as nn\n",
    "\n",
    "class RNN(nn.Module):\n",
    "    \n",
    "    def __init__(self, vocab_size, output_size, embedding_dim, hidden_dim, n_layers, dropout=0.5):\n",
    "        \"\"\"\n",
    "        Initialize the PyTorch RNN Module\n",
    "        :param vocab_size: The number of input dimensions of the neural network (the size of the vocabulary)\n",
    "        :param output_size: The number of output dimensions of the neural network\n",
    "        :param embedding_dim: The size of embeddings, should you choose to use them        \n",
    "        :param hidden_dim: The size of the hidden layer outputs\n",
    "        :param dropout: dropout to add in between LSTM/GRU layers\n",
    "        \"\"\"\n",
    "        super(RNN, self).__init__()\n",
    "        # TODO: Implement function\n",
    "        \n",
    "        # set class variables\n",
    "        self.output_size = output_size\n",
    "        self.n_layers = n_layers\n",
    "        self.hidden_dim = hidden_dim\n",
    "        \n",
    "        # define model layers\n",
    "        self.embedding = nn.Embedding(vocab_size, embedding_dim)\n",
    "        self.lstm = nn.LSTM(embedding_dim, \n",
    "                            hidden_dim, \n",
    "                            n_layers, \n",
    "                            dropout=dropout, \n",
    "                            batch_first=True)\n",
    "        \n",
    "        self.dropout = nn.Dropout(dropout)\n",
    "        \n",
    "        self.fc = nn.Linear(hidden_dim, output_size)\n",
    "    \n",
    "    \n",
    "    def forward(self, nn_input, hidden):\n",
    "        \"\"\"\n",
    "        Forward propagation of the neural network\n",
    "        :param nn_input: The input to the neural network\n",
    "        :param hidden: The hidden state        \n",
    "        :return: Two Tensors, the output of the neural network and the latest hidden state\n",
    "        \"\"\"\n",
    "        # TODO: Implement function   \n",
    "        \n",
    "        batch_size = nn_input.size(0)\n",
    "        \n",
    "        #nn_input = nn_input.long()\n",
    "        embedding_output = self.embedding(nn_input)\n",
    "        output, hidden = self.lstm(embedding_output, hidden)\n",
    "    \n",
    "        output = self.dropout(output)\n",
    "    \n",
    "        output = output.contiguous().view(-1, self.hidden_dim)\n",
    "    \n",
    "        output = self.fc(output)\n",
    "        \n",
    "        # reshape into (batch_size, seq_length, output_size)\n",
    "        output = output.view(batch_size, -1, self.output_size)\n",
    "        # get last batch\n",
    "        output = output[:, -1]\n",
    "\n",
    "        # No need to apply Softmax to the output, since the CrossEntropyLoss classifier\n",
    "        # applies Softmax and NLLLoss aleady, as per the docs:\n",
    "        # https://pytorch.org/docs/stable/generated/torch.nn.CrossEntropyLoss.html#torch.nn.CrossEntropyLoss\n",
    "        #    This criterion combines nn.LogSoftmax() and nn.NLLLoss() in one single class.\n",
    "\n",
    "        # return one batch of output word scores and the hidden state\n",
    "        return output, hidden\n",
    "    \n",
    "    \n",
    "    def init_hidden(self, batch_size):\n",
    "        '''\n",
    "        Initialize the hidden state of an LSTM/GRU\n",
    "        :param batch_size: The batch_size of the hidden state\n",
    "        :return: hidden state of dims (n_layers, batch_size, hidden_dim)\n",
    "        '''\n",
    "        # Implement function\n",
    "        \n",
    "        # initialize hidden state with zero weights, and move to GPU if available\n",
    "        weight = next(self.parameters()).data\n",
    "        \n",
    "        if train_on_gpu:\n",
    "            hidden = (weight.new(self.n_layers, batch_size, self.hidden_dim).zero_().cuda(),\n",
    "                      weight.new(self.n_layers, batch_size, self.hidden_dim).zero_().cuda())\n",
    "        else:\n",
    "            hidden = (weight.new(self.n_layers, batch_size, self.hidden_dim).zero_(),\n",
    "                      weight.new(self.n_layers, batch_size, self.hidden_dim).zero_())\n",
    "        \n",
    "        return hidden\n",
    "\n",
    "\"\"\"\n",
    "DON'T MODIFY ANYTHING IN THIS CELL THAT IS BELOW THIS LINE\n",
    "\"\"\"\n",
    "tests.test_rnn(RNN, train_on_gpu)"
   ]
  },
  {
   "cell_type": "markdown",
   "metadata": {},
   "source": [
    "### Define forward and backpropagation\n",
    "\n",
    "Use the RNN class you implemented to apply forward and back propagation. This function will be called, iteratively, in the training loop as follows:\n",
    "```\n",
    "loss = forward_back_prop(decoder, decoder_optimizer, criterion, inp, target)\n",
    "```\n",
    "\n",
    "And it should return the average loss over a batch and the hidden state returned by a call to `RNN(inp, hidden)`. Recall that you can get this loss by computing it, as usual, and calling `loss.item()`.\n",
    "\n",
    "**If a GPU is available, you should move your data to that GPU device, here.**"
   ]
  },
  {
   "cell_type": "code",
   "execution_count": 44,
   "metadata": {
    "tags": []
   },
   "outputs": [
    {
     "name": "stdout",
     "output_type": "stream",
     "text": [
      "Tests Passed\n"
     ]
    }
   ],
   "source": [
    "def forward_back_prop(rnn, optimizer, criterion, inp, target, hidden):\n",
    "    \"\"\"\n",
    "    Forward and backward propagation on the neural network\n",
    "    :param rnn: The PyTorch Module that holds the neural network\n",
    "    :param optimizer: The PyTorch optimizer for the neural network\n",
    "    :param criterion: The PyTorch loss function\n",
    "    :param inp: A batch of input to the neural network\n",
    "    :param target: The target output for the batch of input\n",
    "    :return: The loss and the latest hidden state Tensor\n",
    "    \"\"\"\n",
    "    \n",
    "    # TODO: Implement Function\n",
    "    \n",
    "    # move data to GPU, if available\n",
    "    if train_on_gpu:\n",
    "        inp, target = inp.cuda(), target.cuda()\n",
    "        \n",
    "    hidden = tuple([element.data for element in hidden])\n",
    "        \n",
    "    rnn.zero_grad()\n",
    "    \n",
    "    output, hidden = rnn(inp, hidden)\n",
    "    \n",
    "    target = target.long()\n",
    "    loss = criterion(output.squeeze(), target)\n",
    "    loss.backward()    \n",
    "    \n",
    "    nn.utils.clip_grad_norm_(rnn.parameters(), 5)\n",
    "    optimizer.step()\n",
    "    \n",
    "    # return the loss over a batch and the hidden state produced by our model\n",
    "    return loss.item(), hidden\n",
    "\n",
    "# Note that these tests aren't completely extensive.\n",
    "# they are here to act as general checks on the expected outputs of your functions\n",
    "\"\"\"\n",
    "DON'T MODIFY ANYTHING IN THIS CELL THAT IS BELOW THIS LINE\n",
    "\"\"\"\n",
    "tests.test_forward_back_prop(RNN, forward_back_prop, train_on_gpu)"
   ]
  },
  {
   "cell_type": "markdown",
   "metadata": {},
   "source": [
    "## Neural Network Training\n",
    "\n",
    "With the structure of the network complete and data ready to be fed in the neural network, it's time to train it.\n",
    "\n",
    "### Train Loop\n",
    "\n",
    "The training loop is implemented for you in the `train_decoder` function. This function will train the network over all the batches for the number of epochs given. The model progress will be shown every number of batches. This number is set with the `show_every_n_batches` parameter. You'll set this parameter along with other parameters in the next section."
   ]
  },
  {
   "cell_type": "code",
   "execution_count": 59,
   "metadata": {
    "tags": []
   },
   "outputs": [],
   "source": [
    "\"\"\"\n",
    "DON'T MODIFY ANYTHING IN THIS CELL\n",
    "\"\"\"\n",
    "\n",
    "def train_rnn(rnn, batch_size, optimizer, criterion, n_epochs, show_every_n_batches=100):\n",
    "    batch_losses = []\n",
    "    \n",
    "    rnn.train()\n",
    "\n",
    "    print(\"Training for %d epoch(s)...\" % n_epochs)\n",
    "    for epoch_i in range(1, n_epochs + 1):\n",
    "        \n",
    "        # initialize hidden state\n",
    "        hidden = rnn.init_hidden(batch_size)\n",
    "        \n",
    "        for batch_i, (inputs, labels) in enumerate(train_loader, 1):\n",
    "            \n",
    "            # make sure you iterate over completely full batches, only\n",
    "            n_batches = len(train_loader.dataset)//batch_size\n",
    "            if(batch_i > n_batches):\n",
    "                break\n",
    "            \n",
    "            # forward, back prop\n",
    "            loss, hidden = forward_back_prop(rnn, optimizer, criterion, inputs, labels, hidden)\n",
    "            # record loss\n",
    "            batch_losses.append(loss)\n",
    "\n",
    "            # printing loss stats\n",
    "            if batch_i % show_every_n_batches == 0:\n",
    "                print('Epoch: {:>4}/{:<4}  Loss: {}'.format(\n",
    "                    epoch_i, n_epochs, np.average(batch_losses)))\n",
    "                batch_losses = []\n",
    "\n",
    "    # returns a trained rnn\n",
    "    return rnn"
   ]
  },
  {
   "cell_type": "markdown",
   "metadata": {},
   "source": [
    "### Hyperparameters\n",
    "\n",
    "Set and train the neural network with the following parameters:\n",
    "- Set `sequence_length` to the length of a sequence.\n",
    "- Set `batch_size` to the batch size.\n",
    "- Set `num_epochs` to the number of epochs to train for.\n",
    "- Set `learning_rate` to the learning rate for an Adam optimizer.\n",
    "- Set `vocab_size` to the number of unique tokens in our vocabulary.\n",
    "- Set `output_size` to the desired size of the output.\n",
    "- Set `embedding_dim` to the embedding dimension; smaller than the vocab_size.\n",
    "- Set `hidden_dim` to the hidden dimension of your RNN.\n",
    "- Set `n_layers` to the number of layers/cells in your RNN.\n",
    "- Set `show_every_n_batches` to the number of batches at which the neural network should print progress.\n",
    "\n",
    "If the network isn't getting the desired results, tweak these parameters and/or the layers in the `RNN` class."
   ]
  },
  {
   "cell_type": "code",
   "execution_count": 71,
   "metadata": {},
   "outputs": [
    {
     "name": "stdout",
     "output_type": "stream",
     "text": [
      "Averag wps: 9.188495335947005, median wps: 7.0\n"
     ]
    }
   ],
   "source": [
    "sentences = text.split('.')\n",
    "len(sentences)\n",
    "\n",
    "words_per_sentence = []\n",
    "\n",
    "for sentence in sentences:\n",
    "    words_per_sentence.append(len(sentence.split(' ')))\n",
    "    \n",
    "wps = np.array(words_per_sentence)\n",
    "average_wps = np.average(wps)\n",
    "median_wps = np.median(wps)\n",
    "print(f\"Averag wps: {average_wps}, median wps: {median_wps}\")\n",
    "    "
   ]
  },
  {
   "cell_type": "code",
   "execution_count": 61,
   "metadata": {},
   "outputs": [
    {
     "data": {
      "image/png": "[encoded data removed]",
      "text/plain": [
       "<Figure size 432x288 with 1 Axes>"
      ]
     },
     "metadata": {
      "needs_background": "light"
     },
     "output_type": "display_data"
    }
   ],
   "source": [
    "import matplotlib.pyplot as plt\n",
    "\n",
    "plt.hist(wps, bins = len(set(wps)))\n",
    "plt.show()"
   ]
  },
  {
   "cell_type": "code",
   "execution_count": 77,
   "metadata": {},
   "outputs": [
    {
     "data": {
      "text/plain": [
       "12.093236435142398"
      ]
     },
     "execution_count": 77,
     "metadata": {},
     "output_type": "execute_result"
    }
   ],
   "source": [
    "len(vocab_to_int)**0.25"
   ]
  },
  {
   "cell_type": "code",
   "execution_count": 85,
   "metadata": {
    "tags": []
   },
   "outputs": [],
   "source": [
    "# Data params\n",
    "# Sequence Length\n",
    "sequence_length = int(median_wps) * 3  # of words in a sequence. Set to the average of 2x the median sentence length.\n",
    "# Batch Size\n",
    "batch_size = 256\n",
    "\n",
    "# data loader - do not change\n",
    "train_loader = batch_data(int_text, sequence_length, batch_size)"
   ]
  },
  {
   "cell_type": "code",
   "execution_count": 88,
   "metadata": {
    "tags": []
   },
   "outputs": [],
   "source": [
    "# Training parameters\n",
    "# Number of Epochs\n",
    "num_epochs = 10\n",
    "# Learning Rate\n",
    "learning_rate = 0.001\n",
    "\n",
    "# Model parameters\n",
    "# Vocab size\n",
    "# Only known words will be passed into this model, so unlike the Sentiment RNN exercise,\n",
    "# offsetting by one is unnecessary\n",
    "vocab_size = len(vocab_to_int)\n",
    "# Output size\n",
    "output_size = vocab_size\n",
    "# Embedding Dimension\n",
    "embedding_dim = 300\n",
    "# Hidden Dimension\n",
    "hidden_dim = 1024\n",
    "# Number of RNN Layers\n",
    "n_layers = 3\n",
    "\n",
    "# Show stats for every n number of batches\n",
    "show_every_n_batches = 500"
   ]
  },
  {
   "cell_type": "markdown",
   "metadata": {},
   "source": [
    "### Train\n",
    "In the next cell, you'll train the neural network on the pre-processed data.  If you have a hard time getting a good loss, you may consider changing your hyperparameters. In general, you may get better results with larger hidden and n_layer dimensions, but larger models take a longer time to train. \n",
    "> **You should aim for a loss less than 3.5.** \n",
    "\n",
    "You should also experiment with different sequence lengths, which determine the size of the long range dependencies that a model can learn."
   ]
  },
  {
   "cell_type": "code",
   "execution_count": 89,
   "metadata": {
    "tags": []
   },
   "outputs": [
    {
     "name": "stdout",
     "output_type": "stream",
     "text": [
      "Training for 10 epoch(s)...\n",
      "Epoch:    1/10    Loss: 5.457587303161621\n",
      "Epoch:    1/10    Loss: 4.800163672447205\n",
      "Epoch:    1/10    Loss: 4.634968832492828\n",
      "Epoch:    1/10    Loss: 4.511855771064758\n",
      "Epoch:    1/10    Loss: 4.434603675842285\n",
      "Epoch:    1/10    Loss: 4.3757488541603085\n",
      "Epoch:    2/10    Loss: 4.266972063518152\n",
      "Epoch:    2/10    Loss: 4.17813237285614\n",
      "Epoch:    2/10    Loss: 4.181642480373383\n",
      "Epoch:    2/10    Loss: 4.142613145828247\n",
      "Epoch:    2/10    Loss: 4.12376003074646\n",
      "Epoch:    2/10    Loss: 4.117296195030212\n",
      "Epoch:    3/10    Loss: 4.2587230571401795\n",
      "Epoch:    3/10    Loss: 4.224294955730438\n",
      "Epoch:    3/10    Loss: 4.170384454250335\n",
      "Epoch:    3/10    Loss: 4.122413086891174\n",
      "Epoch:    3/10    Loss: 4.118096581459046\n",
      "Epoch:    3/10    Loss: 4.068653522491455\n",
      "Epoch:    4/10    Loss: 4.021321863662906\n",
      "Epoch:    4/10    Loss: 3.964032220840454\n",
      "Epoch:    4/10    Loss: 3.9198292698860167\n",
      "Epoch:    4/10    Loss: 3.9138590621948244\n",
      "Epoch:    4/10    Loss: 3.9275223250389097\n",
      "Epoch:    4/10    Loss: 3.9105762572288514\n",
      "Epoch:    5/10    Loss: 3.824057833935187\n",
      "Epoch:    5/10    Loss: 3.7815260043144225\n",
      "Epoch:    5/10    Loss: 3.7856480865478517\n",
      "Epoch:    5/10    Loss: 3.7900214490890503\n",
      "Epoch:    5/10    Loss: 3.7964515852928162\n",
      "Epoch:    5/10    Loss: 3.798620891094208\n",
      "Epoch:    6/10    Loss: 3.7336937860260164\n",
      "Epoch:    6/10    Loss: 3.6954594326019286\n",
      "Epoch:    6/10    Loss: 3.7061526398658753\n",
      "Epoch:    6/10    Loss: 3.723641517162323\n",
      "Epoch:    6/10    Loss: 3.7160387773513794\n",
      "Epoch:    6/10    Loss: 3.718094006538391\n",
      "Epoch:    7/10    Loss: 3.6685542127465816\n",
      "Epoch:    7/10    Loss: 3.6135327963829043\n",
      "Epoch:    7/10    Loss: 3.61840980052948\n",
      "Epoch:    7/10    Loss: 3.634751137256622\n",
      "Epoch:    7/10    Loss: 3.6549723534584047\n",
      "Epoch:    7/10    Loss: 3.6594294261932374\n",
      "Epoch:    8/10    Loss: 3.5998655763583454\n",
      "Epoch:    8/10    Loss: 3.5585837059020995\n",
      "Epoch:    8/10    Loss: 3.5597758746147155\n",
      "Epoch:    8/10    Loss: 3.593995294570923\n",
      "Epoch:    8/10    Loss: 3.5796478390693665\n",
      "Epoch:    8/10    Loss: 3.59466255235672\n",
      "Epoch:    9/10    Loss: 3.5364858905474343\n",
      "Epoch:    9/10    Loss: 3.4858664088249207\n",
      "Epoch:    9/10    Loss: 3.5116325793266294\n",
      "Epoch:    9/10    Loss: 3.5306503381729124\n",
      "Epoch:    9/10    Loss: 3.5293578748703003\n",
      "Epoch:    9/10    Loss: 3.547738967895508\n",
      "Epoch:   10/10    Loss: 3.4778565686892686\n",
      "Epoch:   10/10    Loss: 3.441679531097412\n",
      "Epoch:   10/10    Loss: 3.464984167575836\n",
      "Epoch:   10/10    Loss: 3.4736986355781556\n",
      "Epoch:   10/10    Loss: 3.479934854507446\n",
      "Epoch:   10/10    Loss: 3.4930247139930723\n",
      "Model Trained and Saved\n"
     ]
    }
   ],
   "source": [
    "\"\"\"\n",
    "DON'T MODIFY ANYTHING IN THIS CELL\n",
    "\"\"\"\n",
    "\n",
    "# create model and move to gpu if available\n",
    "rnn = RNN(vocab_size, output_size, embedding_dim, hidden_dim, n_layers, dropout=0.5)\n",
    "if train_on_gpu:\n",
    "    rnn.cuda()\n",
    "\n",
    "# defining loss and optimization functions for training\n",
    "optimizer = torch.optim.Adam(rnn.parameters(), lr=learning_rate)\n",
    "criterion = nn.CrossEntropyLoss()\n",
    "\n",
    "# training the model\n",
    "trained_rnn = train_rnn(rnn, batch_size, optimizer, criterion, num_epochs, show_every_n_batches)\n",
    "\n",
    "# saving the trained model\n",
    "helper.save_model('./save/trained_rnn', trained_rnn)\n",
    "print('Model Trained and Saved')"
   ]
  },
  {
   "cell_type": "markdown",
   "metadata": {},
   "source": [
    "Results with:<br>\n",
    "num_epochs = 8<br>\n",
    "learning_rate = 0.001<br>\n",
    "<br>\n",
    "vocab_size = len(vocab_to_int)<br>\n",
    "output_size = vocab_size<br>\n",
    "embedding_dim = 300<br>\n",
    "hidden_dim = 2046<br>\n",
    "n_layers = 2<br>\n",
    "show_every_n_batches = 500<br>\n",
    "<br>\n",
    "\n",
    "Training for 8 epoch(s)...<br>\n",
    "Epoch:    1/8     Loss: 5.855303764343262<br>\n",
    "Epoch:    1/8     Loss: 5.057023236274719<br>\n",
    "Epoch:    1/8     Loss: 4.813650329113006<br>\n",
    "Epoch:    1/8     Loss: 4.6679785199165345<br>\n",
    "Epoch:    1/8     Loss: 4.561440378189087<br>\n",
    "Epoch:    1/8     Loss: 4.508052016735077<br>\n",
    "Epoch:    1/8     Loss: 4.454249752521515<br>\n",
    "Epoch:    1/8     Loss: 4.402704388141632<br>\n",
    "Epoch:    2/8     Loss: 4.322083830336729<br>\n",
    "Epoch:    2/8     Loss: 4.258583271980286<br>\n",
    "Epoch:    2/8     Loss: 4.243464754581451<br>\n",
    "Epoch:    2/8     Loss: 4.228591516494751<br>\n",
    "Epoch:    2/8     Loss: 4.196934950351715<br>\n",
    "Epoch:    2/8     Loss: 4.186926452159882<br>\n",
    "Epoch:    2/8     Loss: 4.190943725109101<br>\n",
    "Epoch:    2/8     Loss: 4.1610800385475155<br>\n",
    "Epoch:    3/8     Loss: 4.100883077830076<br>\n",
    "Epoch:    3/8     Loss: 4.053729866027832<br>\n",
    "Epoch:    3/8     Loss: 4.056554584980011<br>\n",
    "Epoch:    3/8     Loss: 4.0757262945175174<br>\n",
    "Epoch:    3/8     Loss: 4.048688910484314<br>\n",
    "Epoch:    3/8     Loss: 4.044303062915802<br>\n",
    "Epoch:    3/8     Loss: 4.037039081096649<br>\n",
    "Epoch:    3/8     Loss: 4.03998770904541<br>\n",
    "Epoch:    4/8     Loss: 3.9751329816877843<br>\n",
    "Epoch:    4/8     Loss: 3.960953077316284<br>\n",
    "Epoch:    4/8     Loss: 3.9440786085128785<br>\n",
    "Epoch:    4/8     Loss: 3.9578300313949586<br>\n",
    "Epoch:    4/8     Loss: 3.9533737940788267<br>\n",
    "Epoch:    4/8     Loss: 3.9463983063697814<br>\n",
    "Epoch:    4/8     Loss: 3.9454257559776305<br>\n",
    "Epoch:    4/8     Loss: 3.922009036540985<br>\n",
    "Epoch:    5/8     Loss: 3.898858501513799<br>\n",
    "Epoch:    5/8     Loss: 3.8694640259742736<br>\n",
    "Epoch:    5/8     Loss: 3.8704166526794435<br>\n",
    "Epoch:    5/8     Loss: 3.8749902424812315<br>\n",
    "Epoch:    5/8     Loss: 3.854100540161133<br>\n",
    "Epoch:    5/8     Loss: 3.8799232239723205<br>\n",
    "Epoch:    5/8     Loss: 3.883196900844574<br>\n",
    "Epoch:    5/8     Loss: 3.8709495701789858<br>\n",
    "Epoch:    6/8     Loss: 3.839362808316946<br>\n",
    "Epoch:    6/8     Loss: 3.808196325302124<br>\n",
    "Epoch:    6/8     Loss: 3.809874113082886<br>\n",
    "Epoch:    6/8     Loss: 3.8083161249160766<br>\n",
    "Epoch:    6/8     Loss: 3.830100254058838<br>\n",
    "Epoch:    6/8     Loss: 3.8213874855041503<br>\n",
    "Epoch:    6/8     Loss: 3.815955060482025<br>\n",
    "Epoch:    6/8     Loss: 3.8250061140060425<br>"
   ]
  },
  {
   "cell_type": "markdown",
   "metadata": {},
   "source": [
    "Results with:<br>\n",
    "num_epochs = 8<br>\n",
    "learning_rate = 0.001<br>\n",
    "<br>\n",
    "vocab_size = len(vocab_to_int)<br>\n",
    "output_size = vocab_size<br>\n",
    "embedding_dim = 300<br>\n",
    "hidden_dim = 2046<br>\n",
    "n_layers = 2<br>\n",
    "show_every_n_batches = 500<br>\n",
    "<br>\n",
    "\n",
    "Training for 8 epoch(s)...<br>\n",
    "Epoch:    1/8     Loss: 5.1640747375488285<br>\n",
    "Epoch:    1/8     Loss: 4.722928442001343<br>\n",
    "Epoch:    1/8     Loss: 4.549215792655945<br>\n",
    "Epoch:    1/8     Loss: 4.445833498954773<br>\n",
    "Epoch:    1/8     Loss: 4.394591262817383<br>\n",
    "Epoch:    1/8     Loss: 4.345610404014588<br>\n",
    "Epoch:    1/8     Loss: 4.298429684638977<br>\n",
    "Epoch:    1/8     Loss: 4.2615336256027225<br>\n",
    "Epoch:    2/8     Loss: 4.170953836540381<br>\n",
    "Epoch:    2/8     Loss: 4.1092511677742<br>\n",
    "Epoch:    2/8     Loss: 4.086901574134827<br>\n",
    "Epoch:    2/8     Loss: 4.0571189851760865<br>\n",
    "Epoch:    2/8     Loss: 4.0677223048210145<br>\n",
    "Epoch:    2/8     Loss: 4.050957901954651<br>\n",
    "Epoch:    2/8     Loss: 4.051534592628479<br>\n",
    "Epoch:    2/8     Loss: 4.023540744304657<br>\n",
    "Epoch:    3/8     Loss: 4.079550804197789<br>\n",
    "Epoch:    3/8     Loss: 3.8928567986488343<br>\n",
    "Epoch:    3/8     Loss: 3.8987121634483337<br>\n",
    "Epoch:    3/8     Loss: 3.8964968400001525<br>\n",
    "Epoch:    3/8     Loss: 3.8967883105278016<br>\n",
    "Epoch:    3/8     Loss: 3.909255489826202<br>\n",
    "Epoch:    3/8     Loss: 3.892882818698883<br>\n",
    "Epoch:    3/8     Loss: 3.889376042366028<br>\n",
    "Epoch:    4/8     Loss: 3.8312171819309393<br>\n",
    "Epoch:    4/8     Loss: 3.7713642468452453<br>\n",
    "Epoch:    4/8     Loss: 3.761464768409729<br>"
   ]
  },
  {
   "cell_type": "markdown",
   "metadata": {},
   "source": [
    "Results with:<br>\n",
    "num_epochs = 8<br>\n",
    "learning_rate = 0.001<br>\n",
    "<br>\n",
    "vocab_size = len(vocab_to_int)<br>\n",
    "output_size = vocab_size<br>\n",
    "embedding_dim = 400<br>\n",
    "hidden_dim = 1024<br>\n",
    "n_layers = 2<br>\n",
    "show_every_n_batches = 500<br>\n",
    "<br>\n",
    "Training for 8 epoch(s)...<br>\n",
    "Epoch:    1/8     Loss: 5.087094606399536<br>\n",
    "Epoch:    1/8     Loss: 4.600740220069885<br>\n",
    "Epoch:    1/8     Loss: 4.428039775371552<br>\n",
    "Epoch:    1/8     Loss: 4.360517562866211<br>\n",
    "Epoch:    1/8     Loss: 4.287898362636566<br>\n",
    "Epoch:    1/8     Loss: 4.242105030536652<br>\n",
    "Epoch:    1/8     Loss: 4.201056790828705<br>\n",
    "Epoch:    1/8     Loss: 4.1951537327766415<br>\n",
    "Epoch:    2/8     Loss: 4.089975218971571<br>\n",
    "Epoch:    2/8     Loss: 4.016287415981293<br>\n",
    "Epoch:    2/8     Loss: 4.009392583847046<br>\n",
    "Epoch:    2/8     Loss: 3.9917621908187866<br>\n",
    "Epoch:    2/8     Loss: 4.013125560283661<br>\n",
    "Epoch:    2/8     Loss: 3.9735474467277525<br>\n",
    "Epoch:    2/8     Loss: 3.9871152424812317<br>\n",
    "Epoch:    2/8     Loss: 3.98008376789093<br>\n",
    "Epoch:    3/8     Loss: 3.897547588000695<br>\n",
    "Epoch:    3/8     Loss: 3.843285653591156<br>\n",
    "Epoch:    3/8     Loss: 3.829861435890198<br>\n",
    "Epoch:    3/8     Loss: 3.8741060757637023<br>\n",
    "Epoch:    3/8     Loss: 3.8459416418075563<br>\n",
    "Epoch:    3/8     Loss: 3.8564263920784<br>\n",
    "Epoch:    3/8     Loss: 3.856149289608002<br>\n",
    "Epoch:    3/8     Loss: 3.836270292758942<br>\n",
    "Epoch:    4/8     Loss: 3.7735121294856073<br>\n",
    "Epoch:    4/8     Loss: 3.7163638920783995<br>\n",
    "Epoch:    4/8     Loss: 3.7377367496490477<br>\n",
    "Epoch:    4/8     Loss: 3.733216634273529<br>\n",
    "Epoch:    4/8     Loss: 3.7518215947151186<br>\n",
    "Epoch:    4/8     Loss: 3.74880318403244<br>\n",
    "Epoch:    4/8     Loss: 3.742621660232544<br>\n",
    "Epoch:    4/8     Loss: 3.7599396843910218<br>\n",
    "Epoch:    5/8     Loss: 3.686183681090673<br>\n",
    "Epoch:    5/8     Loss: 3.6228255863189696<br>\n",
    "Epoch:    5/8     Loss: 3.624701418876648<br>\n",
    "Epoch:    5/8     Loss: 3.6543652291297914<br>\n",
    "Epoch:    5/8     Loss: 3.6557874746322634<br>\n",
    "Epoch:    5/8     Loss: 3.678550844669342<br>\n",
    "Epoch:    5/8     Loss: 3.6754081263542173<br>\n",
    "Epoch:    5/8     Loss: 3.6972303309440613<br>\n",
    "Epoch:    6/8     Loss: 3.6083222277462483<br>\n",
    "Epoch:    6/8     Loss: 3.5539297399520873<br>\n",
    "Epoch:    6/8     Loss: 3.561519019126892<br>\n",
    "Epoch:    6/8     Loss: 3.567971251487732<br>\n",
    "Epoch:    6/8     Loss: 3.589733211994171<br>\n",
    "Epoch:    6/8     Loss: 3.6054804434776306<br>\n",
    "Epoch:    6/8     Loss: 3.6193286299705507<br>\n",
    "Epoch:    6/8     Loss: 3.6354835438728332<br>\n",
    "Epoch:    7/8     Loss: 3.5400441169738768<br>\n",
    "Epoch:    7/8     Loss: 3.4878365936279296<br>\n",
    "Epoch:    7/8     Loss: 3.5096909370422362<br>\n",
    "Epoch:    7/8     Loss: 3.5283280425071717<br>\n",
    "Epoch:    7/8     Loss: 3.5385026836395266<br>\n",
    "Epoch:    7/8     Loss: 3.551919029712677<br>\n",
    "Epoch:    7/8     Loss: 3.558347825527191<br>\n",
    "Epoch:    7/8     Loss: 3.566125540733337<br>\n",
    "Epoch:    8/8     Loss: 3.482268134256204<br>\n",
    "Epoch:    8/8     Loss: 3.431490036010742<br>\n",
    "Epoch:    8/8     Loss: 3.436581825733185<br>\n",
    "Epoch:    8/8     Loss: 3.491670433521271<br>\n",
    "Epoch:    8/8     Loss: 3.488409679412842<br>\n",
    "Epoch:    8/8     Loss: 3.5231795897483824<br>\n",
    "Epoch:    8/8     Loss: 3.501399827957153<br>\n",
    "Epoch:    8/8     Loss: 3.5138600788116454<br>\n",
    "Model Trained and Saved<br>"
   ]
  },
  {
   "cell_type": "markdown",
   "metadata": {},
   "source": [
    "### Question: How did you decide on your model hyperparameters? \n",
    "For example, did you try different sequence_lengths and find that one size made the model converge faster? What about your hidden_dim and n_layers; how did you decide on those?"
   ]
  },
  {
   "cell_type": "markdown",
   "metadata": {},
   "source": [
    "**Answer:**\n",
    "\n",
    "I started with the hyperparameters used in the solutions for the Sentiment RNN exercise. Using these defaults, the model achieved a loss of ~3.8 after 4 epochs.\n",
    "\n",
    "**sequence_length**<br>\n",
    "I chose an initial sequence length determined by twice the median sentence length of the input script. This resulted in rather slow convergence, which was improved by increasing the sequence length to 3.\n",
    "\n",
    "**hidden_dim**<br>\n",
    "I started small, with 256, to get an idea of how the model would train. Through emperical testing, I found that a larger number of hidden dimensions of the LSTM resulted in a model that would converge faster. I suspect this is because the LSTM may find more complex patterns. Training did not improve past 1024 for the hidden dimension, without significantly impacting training time.\n",
    "\n",
    "**embedding_dim**<br>\n",
    "These two resources helped guide my choice of 300:\n",
    "https://ai.stackexchange.com/questions/28564/how-to-determine-the-embedding-size\n",
    "https://stackoverflow.com/questions/48479915/what-is-the-preferred-ratio-between-the-vocabulary-size-and-embedding-dimension\n",
    "\n",
    "**n_layers**<br>\n",
    "I started with 2, and focused on the other hyperparameters. After settling on all other hyper parameters, I increased the layers to 3 and achieved a loss of just under 3.5.\n",
    "\n"
   ]
  },
  {
   "cell_type": "markdown",
   "metadata": {},
   "source": [
    "---\n",
    "# Checkpoint\n",
    "\n",
    "After running the above training cell, your model will be saved by name, `trained_rnn`, and if you save your notebook progress, **you can pause here and come back to this code at another time**. You can resume your progress by running the next cell, which will load in our word:id dictionaries _and_ load in your saved model by name!"
   ]
  },
  {
   "cell_type": "code",
   "execution_count": 90,
   "metadata": {},
   "outputs": [],
   "source": [
    "\"\"\"\n",
    "DON'T MODIFY ANYTHING IN THIS CELL\n",
    "\"\"\"\n",
    "import torch\n",
    "import helper\n",
    "import problem_unittests as tests\n",
    "\n",
    "_, vocab_to_int, int_to_vocab, token_dict = helper.load_preprocess()\n",
    "trained_rnn = helper.load_model('./save/trained_rnn')"
   ]
  },
  {
   "cell_type": "markdown",
   "metadata": {},
   "source": [
    "## Generate TV Script\n",
    "With the network trained and saved, you'll use it to generate a new, \"fake\" Seinfeld TV script in this section.\n",
    "\n",
    "### Generate Text\n",
    "To generate the text, the network needs to start with a single word and repeat its predictions until it reaches a set length. You'll be using the `generate` function to do this. It takes a word id to start with, `prime_id`, and generates a set length of text, `predict_len`. Also note that it uses topk sampling to introduce some randomness in choosing the most likely next word, given an output set of word scores!"
   ]
  },
  {
   "cell_type": "code",
   "execution_count": 91,
   "metadata": {},
   "outputs": [],
   "source": [
    "\"\"\"\n",
    "DON'T MODIFY ANYTHING IN THIS CELL THAT IS BELOW THIS LINE\n",
    "\"\"\"\n",
    "import torch.nn.functional as F\n",
    "\n",
    "def generate(rnn, prime_id, int_to_vocab, token_dict, pad_value, predict_len=100):\n",
    "    \"\"\"\n",
    "    Generate text using the neural network\n",
    "    :param decoder: The PyTorch Module that holds the trained neural network\n",
    "    :param prime_id: The word id to start the first prediction\n",
    "    :param int_to_vocab: Dict of word id keys to word values\n",
    "    :param token_dict: Dict of puncuation tokens keys to puncuation values\n",
    "    :param pad_value: The value used to pad a sequence\n",
    "    :param predict_len: The length of text to generate\n",
    "    :return: The generated text\n",
    "    \"\"\"\n",
    "    rnn.eval()\n",
    "    \n",
    "    # create a sequence (batch_size=1) with the prime_id\n",
    "    current_seq = np.full((1, sequence_length), pad_value)\n",
    "    current_seq[-1][-1] = prime_id\n",
    "    predicted = [int_to_vocab[prime_id]]\n",
    "    \n",
    "    for _ in range(predict_len):\n",
    "        if train_on_gpu:\n",
    "            current_seq = torch.LongTensor(current_seq).cuda()\n",
    "        else:\n",
    "            current_seq = torch.LongTensor(current_seq)\n",
    "        \n",
    "        # initialize the hidden state\n",
    "        hidden = rnn.init_hidden(current_seq.size(0))\n",
    "        \n",
    "        # get the output of the rnn\n",
    "        output, _ = rnn(current_seq, hidden)\n",
    "        \n",
    "        # get the next word probabilities\n",
    "        p = F.softmax(output, dim=1).data\n",
    "        if(train_on_gpu):\n",
    "            p = p.cpu() # move to cpu\n",
    "         \n",
    "        # use top_k sampling to get the index of the next word\n",
    "        top_k = 5\n",
    "        p, top_i = p.topk(top_k)\n",
    "        top_i = top_i.numpy().squeeze()\n",
    "        \n",
    "        # select the likely next word index with some element of randomness\n",
    "        p = p.numpy().squeeze()\n",
    "        word_i = np.random.choice(top_i, p=p/p.sum())\n",
    "        \n",
    "        # retrieve that word from the dictionary\n",
    "        word = int_to_vocab[word_i]\n",
    "        predicted.append(word)     \n",
    "        \n",
    "        if(train_on_gpu):\n",
    "            current_seq = current_seq.cpu() # move to cpu\n",
    "        # the generated word becomes the next \"current sequence\" and the cycle can continue\n",
    "        if train_on_gpu:\n",
    "            current_seq = current_seq.cpu()\n",
    "        current_seq = np.roll(current_seq, -1, 1)\n",
    "        current_seq[-1][-1] = word_i\n",
    "    \n",
    "    gen_sentences = ' '.join(predicted)\n",
    "    \n",
    "    # Replace punctuation tokens\n",
    "    for key, token in token_dict.items():\n",
    "        ending = ' ' if key in ['\\n', '(', '\"'] else ''\n",
    "        gen_sentences = gen_sentences.replace(' ' + token.lower(), key)\n",
    "    gen_sentences = gen_sentences.replace('\\n ', '\\n')\n",
    "    gen_sentences = gen_sentences.replace('( ', '(')\n",
    "    \n",
    "    # return all the sentences\n",
    "    return gen_sentences"
   ]
  },
  {
   "cell_type": "markdown",
   "metadata": {},
   "source": [
    "### Generate a New Script\n",
    "It's time to generate the text. Set `gen_length` to the length of TV script you want to generate and set `prime_word` to one of the following to start the prediction:\n",
    "- \"jerry\"\n",
    "- \"elaine\"\n",
    "- \"george\"\n",
    "- \"kramer\"\n",
    "\n",
    "You can set the prime word to _any word_ in our dictionary, but it's best to start with a name for generating a TV script. (You can also start with any other names you find in the original text file!)"
   ]
  },
  {
   "cell_type": "code",
   "execution_count": 92,
   "metadata": {},
   "outputs": [
    {
     "name": "stdout",
     "output_type": "stream",
     "text": [
      "jerry:\n",
      "\n",
      "george:(pause) oh, no no.\n",
      "\n",
      "jerry: i think you can do that.\n",
      "\n",
      "george: well, you know, i just want to see you again.\n",
      "\n",
      "george:(to george) i think i should have said this was a little more, but.. i don't know.\n",
      "\n",
      "jerry: what about the drake?\n",
      "\n",
      "jerry: i don't know.\n",
      "\n",
      "george: i don't know.\n",
      "\n",
      "george: well, you know, i just got a little problem with the other day.\n",
      "\n",
      "jerry: oh!\n",
      "\n",
      "jerry: hey!\n",
      "\n",
      "jerry: hey!\n",
      "\n",
      "george: hey!\n",
      "\n",
      "kramer: hey, hey, i got a good time.\n",
      "\n",
      "jerry: yeah.\n",
      "\n",
      "jerry:(to jerry) i don't want to talk to this woman.\n",
      "\n",
      "george:(sarcastic) i mean, i know what i mean!(jerry is shocked)\n",
      "\n",
      "elaine: i think i could be a little...\n",
      "\n",
      "elaine:(to jerry) i know, i think we were gonna be a little bit for the rest of this.\n",
      "\n",
      "george: i think we should get a cab.\n",
      "\n",
      "george: i can't believe this. i can't believe this!\n",
      "\n",
      "jerry:(to jerry) you know, it's not a good idea, i don't know how much longer it could be, but...\n",
      "\n",
      "jerry:(interrupting) you know, i think i can have a very good job, so...\n",
      "\n",
      "jerry:(looking up at the table) hey, you know, i'm going to the hospital.\n",
      "\n",
      "jerry: what?\n",
      "\n",
      "kramer: well i don't think so.\n",
      "\n",
      "george: well, you know, it's really really nice.\n",
      "\n",
      "jerry:(pointing) well, this is my new friend.\n",
      "\n",
      "kramer: hey.(he takes a bite from him, she starts the door)\n",
      "\n",
      "jerry: oh, you know the little thing about that guy?\n",
      "\n",
      "elaine: yeah.\n",
      "\n",
      "jerry: you know, i think\n"
     ]
    }
   ],
   "source": [
    "# run the cell multiple times to get different results!\n",
    "gen_length = 400 # modify the length to your preference\n",
    "prime_word = 'jerry' # name for starting the script\n",
    "\n",
    "\"\"\"\n",
    "DON'T MODIFY ANYTHING IN THIS CELL THAT IS BELOW THIS LINE\n",
    "\"\"\"\n",
    "pad_word = helper.SPECIAL_WORDS['PADDING']\n",
    "generated_script = generate(trained_rnn, vocab_to_int[prime_word + ':'], int_to_vocab, token_dict, vocab_to_int[pad_word], gen_length)\n",
    "print(generated_script)"
   ]
  },
  {
   "cell_type": "markdown",
   "metadata": {},
   "source": [
    "#### Save your favorite scripts\n",
    "\n",
    "Once you have a script that you like (or find interesting), save it to a text file!"
   ]
  },
  {
   "cell_type": "code",
   "execution_count": 93,
   "metadata": {},
   "outputs": [],
   "source": [
    "# save script to a text file\n",
    "f =  open(\"generated_script_1.txt\",\"w\")\n",
    "f.write(generated_script)\n",
    "f.close()"
   ]
  },
  {
   "cell_type": "markdown",
   "metadata": {},
   "source": [
    "# The TV Script is Not Perfect\n",
    "It's ok if the TV script doesn't make perfect sense. It should look like alternating lines of dialogue, here is one such example of a few generated lines.\n",
    "\n",
    "### Example generated script\n",
    "\n",
    ">jerry: what about me?\n",
    ">\n",
    ">jerry: i don't have to wait.\n",
    ">\n",
    ">kramer:(to the sales table)\n",
    ">\n",
    ">elaine:(to jerry) hey, look at this, i'm a good doctor.\n",
    ">\n",
    ">newman:(to elaine) you think i have no idea of this...\n",
    ">\n",
    ">elaine: oh, you better take the phone, and he was a little nervous.\n",
    ">\n",
    ">kramer:(to the phone) hey, hey, jerry, i don't want to be a little bit.(to kramer and jerry) you can't.\n",
    ">\n",
    ">jerry: oh, yeah. i don't even know, i know.\n",
    ">\n",
    ">jerry:(to the phone) oh, i know.\n",
    ">\n",
    ">kramer:(laughing) you know...(to jerry) you don't know.\n",
    "\n",
    "You can see that there are multiple characters that say (somewhat) complete sentences, but it doesn't have to be perfect! It takes quite a while to get good results, and often, you'll have to use a smaller vocabulary (and discard uncommon words), or get more data.  The Seinfeld dataset is about 3.4 MB, which is big enough for our purposes; for script generation you'll want more than 1 MB of text, generally. \n",
    "\n",
    "# Submitting This Project\n",
    "When submitting this project, make sure to run all the cells before saving the notebook. Save the notebook file as \"dlnd_tv_script_generation.ipynb\" and save another copy as an HTML file by clicking \"File\" -> \"Download as..\"->\"html\". Include the \"helper.py\" and \"problem_unittests.py\" files in your submission. Once you download these files, compress them into one zip file for submission."
   ]
  },
  {
   "cell_type": "code",
   "execution_count": null,
   "metadata": {},
   "outputs": [],
   "source": []
  }
 ],
 "metadata": {
  "kernelspec": {
   "display_name": "Python 3 (ipykernel)",
   "language": "python",
   "name": "python3"
  },
  "language_info": {
   "codemirror_mode": {
    "name": "ipython",
    "version": 3
   },
   "file_extension": ".py",
   "mimetype": "text/x-python",
   "name": "python",
   "nbconvert_exporter": "python",
   "pygments_lexer": "ipython3",
   "version": "3.8.12"
  },
  "widgets": {
   "state": {},
   "version": "1.1.2"
  }
 },
 "nbformat": 4,
 "nbformat_minor": 4
}
